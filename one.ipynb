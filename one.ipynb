{
 "cells": [
  {
   "cell_type": "code",
   "execution_count": 3,
   "metadata": {},
   "outputs": [],
   "source": [
    "import numpy as np\n",
    "import pandas as pd\n",
    "import matplotlib.pyplot as plt\n",
    "\n",
    "er=[]\n",
    "m1=[]\n",
    "c1=[]\n",
    "te=[]\n",
    "def compute_error(c, m, x,y):\n",
    "    totalError = 0\n",
    "    x = x\n",
    "    y = y\n",
    "    #print(c,m)\n",
    "    m1.append(m)\n",
    "    c1.append(c)\n",
    "    for i in range(0,len(x)):\n",
    "        totalError+=(((m * x[i] + c)-y[i]) ** 2)\n",
    "    er.append(totalError/len(x))\n",
    "    #print(er)\n",
    "\n",
    "def step_gradient(c_current, m_current, x,y, learningRate):\n",
    "    c_gradient = 0.0\n",
    "    m_gradient = 0.0\n",
    "    N = float(len(x))\n",
    "    x = x\n",
    "    y = y\n",
    "    cg=[]\n",
    "    mg=[]\n",
    "    for i in range(0,len(x)):\n",
    "        cg.append(((m_current * x[i]) + c_current)-y[i])\n",
    "        mg.append(x[i] * (((m_current * x) + c_current)-y[i]))\n",
    "    c_gradient=(np.array(cg).sum())/N\n",
    "    m_gradient=(np.array(mg).sum())/N\n",
    "    new_c = c_current - (learningRate * c_gradient)\n",
    "    new_m = m_current - (learningRate * m_gradient)\n",
    "    compute_error(new_c,new_m,x,y)\n",
    "    return [new_c, new_m]\n",
    "\n",
    "def gradient_descent_runner(x,y, starting_c, starting_m, learning_rate, num_iterations):\n",
    "    c = starting_c\n",
    "    m = starting_m\n",
    "    for i in range(num_iterations):\n",
    "        c,m=step_gradient(c, m, x,y, learning_rate)\n",
    "      #print(c,m)\n",
    "   \n",
    "def run():\n",
    "    sn = pd.read_csv('C:/Users/hsnva/Downloads/Salary_Data.csv')\n",
    "    x1=sn.iloc[:,0:1]\n",
    "    y1=sn.iloc[:,1:2]\n",
    "    x=np.array(x1)\n",
    "    y=np.array(y1)\n",
    "    learning_rate = 0.001\n",
    "    initial_c = 1 # initial y-intercept guess\n",
    "    initial_m = 1 # initial slope guess\n",
    "    num_iterations = 100\n",
    "    compute_error(initial_c, initial_m,x,y)\n",
    "    gradient_descent_runner(x,y, initial_c, initial_m, learning_rate, num_iterations)\n",
    "    \n",
    "\n",
    "\n",
    "run()\n",
    "it=np.arange(0,101)\n"
   ]
  },
  {
   "cell_type": "code",
   "execution_count": 4,
   "metadata": {},
   "outputs": [
    {
     "name": "stdout",
     "output_type": "stream",
     "text": [
      "[array([6.50184851e+09]), array([2.16091161e+08]), array([5.56540063e+08]), array([6.38537772e+08]), array([6.51956578e+08]), array([6.54269287e+08]), array([6.54877442e+08]), array([6.55226099e+08]), array([6.55535374e+08]), array([6.55838748e+08]), array([6.56141315e+08]), array([6.56443848e+08]), array([6.56746466e+08]), array([6.57049186e+08]), array([6.57352011e+08]), array([6.57654941e+08]), array([6.57957977e+08]), array([6.58261119e+08]), array([6.58564365e+08]), array([6.58867718e+08]), array([6.59171175e+08]), array([6.59474739e+08]), array([6.59778407e+08]), array([6.60082182e+08]), array([6.60386061e+08]), array([6.60690047e+08]), array([6.60994137e+08]), array([6.61298334e+08]), array([6.61602635e+08]), array([6.61907042e+08]), array([6.62211555e+08]), array([6.62516173e+08]), array([6.62820897e+08]), array([6.63125726e+08]), array([6.63430661e+08]), array([6.63735701e+08]), array([6.64040846e+08]), array([6.64346097e+08]), array([6.64651454e+08]), array([6.64956916e+08]), array([6.65262483e+08]), array([6.65568156e+08]), array([6.65873935e+08]), array([6.66179819e+08]), array([6.66485808e+08]), array([6.66791903e+08]), array([6.67098104e+08]), array([6.6740441e+08]), array([6.67710821e+08]), array([6.68017338e+08]), array([6.6832396e+08]), array([6.68630688e+08]), array([6.68937522e+08]), array([6.69244461e+08]), array([6.69551505e+08]), array([6.69858655e+08]), array([6.7016591e+08]), array([6.70473271e+08]), array([6.70780737e+08]), array([6.71088309e+08]), array([6.71395986e+08]), array([6.71703769e+08]), array([6.72011657e+08]), array([6.72319651e+08]), array([6.7262775e+08]), array([6.72935955e+08]), array([6.73244265e+08]), array([6.73552681e+08]), array([6.73861202e+08]), array([6.74169828e+08]), array([6.74478561e+08]), array([6.74787398e+08]), array([6.75096341e+08]), array([6.7540539e+08]), array([6.75714544e+08]), array([6.76023804e+08]), array([6.76333169e+08]), array([6.76642639e+08]), array([6.76952215e+08]), array([6.77261897e+08]), array([6.77571684e+08]), array([6.77881576e+08]), array([6.78191574e+08]), array([6.78501678e+08]), array([6.78811887e+08]), array([6.79122201e+08]), array([6.79432621e+08]), array([6.79743146e+08]), array([6.80053777e+08]), array([6.80364514e+08]), array([6.80675356e+08]), array([6.80986303e+08]), array([6.81297356e+08]), array([6.81608514e+08]), array([6.81919778e+08]), array([6.82231147e+08]), array([6.82542622e+08]), array([6.82854202e+08]), array([6.83165888e+08]), array([6.83477679e+08]), array([6.83789576e+08])]\n",
      "1\n",
      "14321.954654666666 76.99668666666668\n"
     ]
    },
    {
     "data": {
      "text/plain": [
       "[<matplotlib.lines.Line2D at 0x2aa9a1d0850>]"
      ]
     },
     "execution_count": 4,
     "metadata": {},
     "output_type": "execute_result"
    },
    {
     "data": {
      "image/png": "[encoded data removed]",
      "text/plain": [
       "<Figure size 432x288 with 1 Axes>"
      ]
     },
     "metadata": {
      "needs_background": "light"
     },
     "output_type": "display_data"
    }
   ],
   "source": [
    "sn = pd.read_csv('C:/Users/hsnva/Downloads/Salary_Data.csv')\n",
    "x1=sn.iloc[:,0:1]\n",
    "y1=sn.iloc[:,1:2]\n",
    "x=np.array(x1)\n",
    "plt.scatter(x1,y1)\n",
    "m=max(np.array(m1))\n",
    "c=min(np.array(c1))\n",
    "e=np.array(er)\n",
    "print(er)\n",
    "e1=min(e)\n",
    "print(er.index(e1))\n",
    "print(m1[er.index(e1)],c1[er.index(e1)])\n",
    "p=[]\n",
    "for i in range(0,len(x1)):\n",
    "    p.append(m1[er.index(e1)]*x[i]+c1[er.index(e1)])\n",
    "plt.plot(x1,p)\n"
   ]
  },
  {
   "cell_type": "code",
   "execution_count": 5,
   "metadata": {},
   "outputs": [
    {
     "data": {
      "text/plain": [
       "[<matplotlib.lines.Line2D at 0x2aa9a25acd0>]"
      ]
     },
     "execution_count": 5,
     "metadata": {},
     "output_type": "execute_result"
    },
    {
     "data": {
      "image/png": "[encoded data removed]",
      "text/plain": [
       "<Figure size 432x288 with 1 Axes>"
      ]
     },
     "metadata": {
      "needs_background": "light"
     },
     "output_type": "display_data"
    }
   ],
   "source": [
    "a=np.arange(0,101)\n",
    "plt.plot(a,er)"
   ]
  }
 ],
 "metadata": {
  "kernelspec": {
   "display_name": "Python 3",
   "language": "python",
   "name": "python3"
  },
  "language_info": {
   "codemirror_mode": {
    "name": "ipython",
    "version": 3
   },
   "file_extension": ".py",
   "mimetype": "text/x-python",
   "name": "python",
   "nbconvert_exporter": "python",
   "pygments_lexer": "ipython3",
   "version": "3.8.3"
  }
 },
 "nbformat": 4,
 "nbformat_minor": 4
}
